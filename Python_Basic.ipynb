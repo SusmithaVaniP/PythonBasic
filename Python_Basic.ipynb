{
  "nbformat": 4,
  "nbformat_minor": 0,
  "metadata": {
    "colab": {
      "provenance": []
    },
    "kernelspec": {
      "name": "python3",
      "display_name": "Python 3"
    },
    "language_info": {
      "name": "python"
    }
  },
  "cells": [
    {
      "cell_type": "code",
      "source": [],
      "metadata": {
        "id": "AQPMoweqlVB4"
      },
      "execution_count": null,
      "outputs": []
    },
    {
      "cell_type": "markdown",
      "source": [
        "1. Difference between ??\n",
        "\n",
        "--  sdcbsjbcsj\n",
        "\n"
      ],
      "metadata": {
        "id": "DiksaiiDvAOR"
      }
    },
    {
      "cell_type": "markdown",
      "source": [
        "Hi , I am Susmitha"
      ],
      "metadata": {
        "id": "yb0LA632lWK-"
      }
    },
    {
      "cell_type": "markdown",
      "source": [
        "# Python Basic ::"
      ],
      "metadata": {
        "id": "CuPi0x_DlaT8"
      }
    }
  ]
}